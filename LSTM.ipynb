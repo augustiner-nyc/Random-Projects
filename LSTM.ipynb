{
  "nbformat": 4,
  "nbformat_minor": 0,
  "metadata": {
    "colab": {
      "provenance": [],
      "gpuType": "T4",
      "authorship_tag": "ABX9TyMtVK/WtwOsHKboXsVkEyCh"
    },
    "kernelspec": {
      "name": "python3",
      "display_name": "Python 3"
    },
    "language_info": {
      "name": "python"
    },
    "accelerator": "GPU"
  },
  "cells": [
    {
      "cell_type": "code",
      "execution_count": null,
      "metadata": {
        "colab": {
          "base_uri": "https://localhost:8080/"
        },
        "id": "yLvCCkWPCyc0",
        "outputId": "e25c2b63-c870-4735-8940-fcc252511058"
      },
      "outputs": [
        {
          "output_type": "stream",
          "name": "stdout",
          "text": [
            "Downloading https://www.cs.toronto.edu/~kriz/cifar-10-python.tar.gz to ./data/cifar-10-python.tar.gz\n"
          ]
        },
        {
          "output_type": "stream",
          "name": "stderr",
          "text": [
            "100%|██████████| 170498071/170498071 [00:13<00:00, 12849966.18it/s]\n"
          ]
        },
        {
          "output_type": "stream",
          "name": "stdout",
          "text": [
            "Extracting ./data/cifar-10-python.tar.gz to ./data\n",
            "Files already downloaded and verified\n",
            "Training on GPU.\n",
            "Epoch [1/10]\n",
            "Epoch [2/10]\n",
            "Epoch [3/10]\n",
            "Epoch [4/10]\n",
            "Epoch [5/10]\n",
            "Epoch [6/10]\n",
            "Epoch [7/10]\n",
            "Epoch [8/10]\n",
            "Epoch [9/10]\n",
            "Epoch [10/10]\n",
            "Accuracy: 85.31%\n",
            "Error Rate: 14.69%\n"
          ]
        }
      ],
      "source": [
        "import torch\n",
        "import torch.nn as nn\n",
        "import torchvision\n",
        "import torchvision.transforms as transforms\n",
        "import torchvision.datasets as datasets\n",
        "from torch.utils.data import DataLoader\n",
        "\n",
        "# Define the ResNet-50 model with an LSTM layer\n",
        "class ResNet50WithLSTM(nn.Module):\n",
        "    def __init__(self, num_classes):\n",
        "        super(ResNet50WithLSTM, self).__init__()\n",
        "\n",
        "        # ResNet-50 CNN\n",
        "        self.resnet = torchvision.models.resnet50(pretrained=True)\n",
        "        in_features = self.resnet.fc.in_features\n",
        "        self.resnet.fc = nn.Identity()  # Remove the fully connected layer\n",
        "\n",
        "        # LSTM layer\n",
        "        self.lstm = nn.LSTM(input_size=in_features, hidden_size=256, num_layers=1, batch_first=True)\n",
        "\n",
        "        # Final fully connected layer\n",
        "        self.fc = nn.Linear(256, num_classes)\n",
        "\n",
        "    def forward(self, x):\n",
        "        batch_size, _, _, _ = x.size()\n",
        "\n",
        "        # CNN feature extraction\n",
        "        cnn_features = self.resnet(x)\n",
        "\n",
        "        # Reshape for LSTM\n",
        "        cnn_features = cnn_features.view(batch_size, -1, cnn_features.size(1))\n",
        "\n",
        "        # LSTM sequence modeling\n",
        "        lstm_out, _ = self.lstm(cnn_features)\n",
        "\n",
        "        # Take the output from the last time step\n",
        "        lstm_out = lstm_out[:, -1, :]\n",
        "\n",
        "        # Final fully connected layer\n",
        "        output = self.fc(lstm_out)\n",
        "\n",
        "        return output\n",
        "\n",
        "# Define data transforms\n",
        "transform = transforms.Compose([\n",
        "    transforms.RandomHorizontalFlip(),\n",
        "    transforms.RandomCrop(32, padding=4),\n",
        "    transforms.ToTensor(),\n",
        "    transforms.Normalize((0.485, 0.456, 0.406), (0.229, 0.224, 0.225))\n",
        "])\n",
        "\n",
        "# Load CIFAR-10 dataset\n",
        "train_dataset = datasets.CIFAR10(root='./data', train=True, download=True, transform=transform)\n",
        "test_dataset = datasets.CIFAR10(root='./data', train=False, download=True, transform=transform)\n",
        "\n",
        "# Define data loaders\n",
        "train_loader = DataLoader(train_dataset, batch_size=32, shuffle=True)\n",
        "test_loader = DataLoader(test_dataset, batch_size=32, shuffle=False)\n",
        "\n",
        "# Initialize and train the model\n",
        "device = torch.device(\"cuda\" if torch.cuda.is_available() else \"cpu\")\n",
        "model = ResNet50WithLSTM(num_classes=10).to(device)\n",
        "\n",
        "# Check if GPU is available\n",
        "if str(device) == \"cuda\":\n",
        "    print(\"Training on GPU.\")\n",
        "else:\n",
        "    print(\"No GPU available, training on CPU.\")\n",
        "\n",
        "criterion = nn.CrossEntropyLoss()\n",
        "optimizer = torch.optim.SGD(model.parameters(), lr=0.001, momentum=0.9, weight_decay=5e-4)\n",
        "num_epochs = 10\n",
        "\n",
        "for epoch in range(num_epochs):\n",
        "    model.train()\n",
        "    for images, labels in train_loader:\n",
        "        images, labels = images.to(device), labels.to(device)\n",
        "        optimizer.zero_grad()\n",
        "        outputs = model(images)\n",
        "        loss = criterion(outputs, labels)\n",
        "        loss.backward()\n",
        "        optimizer.step()\n",
        "\n",
        "    print(f\"Epoch [{epoch + 1}/{num_epochs}]\")\n",
        "\n",
        "# Test the model\n",
        "model.eval()\n",
        "correct = 0\n",
        "total = 0\n",
        "\n",
        "with torch.no_grad():\n",
        "    for images, labels in test_loader:\n",
        "        images, labels = images.to(device), labels.to(device)\n",
        "        outputs = model(images)\n",
        "        _, predicted = torch.max(outputs, 1)\n",
        "        total += labels.size(0)\n",
        "        correct += (predicted == labels).sum().item()\n",
        "\n",
        "accuracy = 100 * correct / total\n",
        "error_rate = 100 - accuracy\n",
        "\n",
        "print(f\"Accuracy: {accuracy:.2f}%\")\n",
        "print(f\"Error Rate: {error_rate:.2f}%\")\n",
        "\n",
        "# Save the model\n",
        "torch.save(model.state_dict(), 'resnet50_with_lstm_cifar10.pth')\n"
      ]
    }
  ]
}